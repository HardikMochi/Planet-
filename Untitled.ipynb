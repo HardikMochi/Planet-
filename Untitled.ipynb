{
 "cells": [
  {
   "cell_type": "code",
   "execution_count": 7,
   "metadata": {},
   "outputs": [],
   "source": [
    "\n",
    "import os\n",
    "import sys\n",
    "import cv2\n",
    "# Flask\n",
    "from flask import Flask, redirect, url_for, request, render_template, Response, jsonify, redirect\n",
    "from werkzeug.utils import secure_filename\n",
    "from gevent.pywsgi import WSGIServer\n",
    "\n",
    "import re\n",
    "# Some utilites\n",
    "import numpy as np\n",
    "from util import base64_to_pil\n",
    "from tensorflow.keras.preprocessing import image\n"
   ]
  },
  {
   "cell_type": "code",
   "execution_count": 8,
   "metadata": {},
   "outputs": [],
   "source": [
    "input_size = 128\n",
    "UPLOAD_FOLDER = 'Images'"
   ]
  },
  {
   "cell_type": "code",
   "execution_count": 9,
   "metadata": {},
   "outputs": [],
   "source": [
    "\n",
    "app = Flask(__name__)"
   ]
  },
  {
   "cell_type": "code",
   "execution_count": 10,
   "metadata": {},
   "outputs": [
    {
     "name": "stdout",
     "output_type": "stream",
     "text": [
      "Loaded model from disk\n"
     ]
    }
   ],
   "source": [
    "root_path = 'Models'\n",
    "from keras.models import model_from_json\n",
    "file_path = os.path.join(root_path,'model_vgg(2).json')\n",
    "json_file = open(file_path, 'r')\n",
    "loaded_model_json = json_file.read()\n",
    "json_file.close()\n",
    "model = model_from_json(loaded_model_json)\n",
    "weight_file = os.path.join(root_path,'best_model_cgg.h5')\n",
    "model.load_weights(weight_file)\n",
    "print(\"Loaded model from disk\")"
   ]
  },
  {
   "cell_type": "code",
   "execution_count": 11,
   "metadata": {},
   "outputs": [],
   "source": [
    "def load_test_data(img):\n",
    "    img = img.resize((128, 128))\n",
    "    # Preprocessing the image\n",
    "    x = image.img_to_array(img)[:,:,:3]\n",
    "    img = x/255\n",
    "    return img"
   ]
  },
  {
   "cell_type": "code",
   "execution_count": 12,
   "metadata": {},
   "outputs": [],
   "source": [
    "label_map = {'agriculture': 8,\n",
    " 'artisinal_mine': 1,\n",
    " 'bare_ground': 6,\n",
    " 'blooming': 13,\n",
    " 'blow_down': 16,\n",
    " 'clear': 5,\n",
    " 'cloudy': 10,\n",
    " 'conventional_mine': 12,\n",
    " 'cultivation': 15,\n",
    " 'habitation': 14,\n",
    " 'haze': 11,\n",
    " 'partly_cloudy': 4,\n",
    " 'primary': 3,\n",
    " 'road': 9,\n",
    " 'selective_logging': 0,\n",
    " 'slash_burn': 7,\n",
    " 'water': 2}\n",
    "\n",
    "inv_label_map = {i: l for l, i in label_map.items()}"
   ]
  },
  {
   "cell_type": "code",
   "execution_count": 13,
   "metadata": {},
   "outputs": [],
   "source": [
    "\n",
    "def model_predict(img, model):\n",
    "    x = load_test_data(img)\n",
    "    \n",
    "\n",
    "    preds = model.predict(np.expand_dims(x, axis=0) )[0]\n",
    "    return preds"
   ]
  },
  {
   "cell_type": "code",
   "execution_count": 14,
   "metadata": {},
   "outputs": [],
   "source": [
    "# home page\n",
    "@app.route(\"/\")\n",
    "def home3():\n",
    "    return render_template(\"base.html\")\n",
    "\n",
    "\n",
    "@app.route(\"/predict\", methods=['GET', 'POST'])\n",
    "def predict3():\n",
    "    if request.method == 'POST':\n",
    "        # Get the image from post request\n",
    "        img = base64_to_pil(request.json)\n",
    "    \n",
    "        pred = model_predict(img,model)\n",
    "        a=[]\n",
    "        for j in range(17):\n",
    "            if pred[j]>0.3:\n",
    "                a.append(j)\n",
    "        result =[]\n",
    "        for p1 in a:\n",
    "            t = inv_label_map[p1]\n",
    "            result.append(t)         \n",
    "\n",
    "        # Serialize the result, you can add additional fields\n",
    "        return jsonify(result=result)\n",
    "\n",
    "\n"
   ]
  },
  {
   "cell_type": "code",
   "execution_count": null,
   "metadata": {},
   "outputs": [
    {
     "name": "stdout",
     "output_type": "stream",
     "text": [
      " * Serving Flask app \"__main__\" (lazy loading)\n",
      " * Environment: production\n",
      "   WARNING: This is a development server. Do not use it in a production deployment.\n",
      "   Use a production WSGI server instead.\n",
      " * Debug mode: off\n"
     ]
    },
    {
     "name": "stderr",
     "output_type": "stream",
     "text": [
      " * Running on http://127.0.0.1:5002/ (Press CTRL+C to quit)\n",
      "127.0.0.1 - - [20/Mar/2021 18:12:58] \"\u001b[37mGET / HTTP/1.1\u001b[0m\" 200 -\n",
      "127.0.0.1 - - [20/Mar/2021 18:13:15] \"\u001b[37mPOST /predict HTTP/1.1\u001b[0m\" 200 -\n",
      "127.0.0.1 - - [20/Mar/2021 18:20:04] \"\u001b[37mGET / HTTP/1.1\u001b[0m\" 200 -\n",
      "127.0.0.1 - - [20/Mar/2021 18:20:21] \"\u001b[37mPOST /predict HTTP/1.1\u001b[0m\" 200 -\n"
     ]
    }
   ],
   "source": [
    "if __name__ == \"__main__\":\n",
    "    app.run(port=5002,debug=False)\n",
    " \n",
    "    # Serve the app with gevent\n",
    "    http_server = WSGIServer(('0.0.0.0', 5000), app)\n",
    "    http_server.serve_forever()\n"
   ]
  },
  {
   "cell_type": "code",
   "execution_count": null,
   "metadata": {},
   "outputs": [],
   "source": [
    "if request.method == \"GET\":\n",
    "        return render_template(\"home.html\")\n",
    "\n",
    "    else:\n",
    "        file = request.files[\"image\"]\n",
    "        upload_image_path = os.path.join(UPLOAD_FOLDER, file.filename)\n",
    "        print(upload_image_path)\n",
    "        file.save(upload_image_path)\n",
    "\n",
    "        pred = model_predict(img,model)\n",
    "        a=[]\n",
    "        for j in range(17):\n",
    "            if pred[j]>0.3:\n",
    "                a.append(j)\n",
    "        result =[]\n",
    "        for p1 in a:\n",
    "            t = inv_label_map[p1]\n",
    "            re.append(t)         \n",
    "        result = result.replace('_', ' ').capitalize()\n",
    "\n",
    "        # Serialize the result, you can add additional fields\n",
    "        return jsonify(result=result, probability=pred_proba)\n"
   ]
  },
  {
   "cell_type": "code",
   "execution_count": null,
   "metadata": {},
   "outputs": [],
   "source": []
  },
  {
   "cell_type": "code",
   "execution_count": null,
   "metadata": {},
   "outputs": [],
   "source": []
  }
 ],
 "metadata": {
  "kernelspec": {
   "display_name": "Python 3",
   "language": "python",
   "name": "python3"
  },
  "language_info": {
   "codemirror_mode": {
    "name": "ipython",
    "version": 3
   },
   "file_extension": ".py",
   "mimetype": "text/x-python",
   "name": "python",
   "nbconvert_exporter": "python",
   "pygments_lexer": "ipython3",
   "version": "3.8.5"
  }
 },
 "nbformat": 4,
 "nbformat_minor": 4
}
